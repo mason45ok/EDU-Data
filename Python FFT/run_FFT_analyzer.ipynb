{
 "cells": [
  {
   "cell_type": "code",
   "execution_count": 1,
   "metadata": {},
   "outputs": [
    {
     "name": "stdout",
     "output_type": "stream",
     "text": [
      "pygame 2.5.2 (SDL 2.28.3, Python 3.11.8)\n",
      "Hello from the pygame community. https://www.pygame.org/contribute.html\n"
     ]
    },
    {
     "name": "stderr",
     "output_type": "stream",
     "text": [
      "usage: ipykernel_launcher.py [-h] [--device DEVICE] [--height HEIGHT]\n",
      "                             [--n_frequency_bins FREQUENCY_BINS] [--verbose]\n",
      "                             [--window_ratio WINDOW_RATIO]\n",
      "                             [--sleep_between_frames]\n",
      "ipykernel_launcher.py: error: unrecognized arguments: --f=c:\\Users\\mason\\AppData\\Roaming\\jupyter\\runtime\\kernel-v2-11968xSb33aWL2hnK.json\n"
     ]
    },
    {
     "ename": "SystemExit",
     "evalue": "2",
     "output_type": "error",
     "traceback": [
      "An exception has occurred, use %tb to see the full traceback.\n",
      "\u001b[1;31mSystemExit\u001b[0m\u001b[1;31m:\u001b[0m 2\n"
     ]
    },
    {
     "name": "stderr",
     "output_type": "stream",
     "text": [
      "C:\\Users\\mason\\AppData\\Local\\Packages\\PythonSoftwareFoundation.Python.3.11_qbz5n2kfra8p0\\LocalCache\\local-packages\\Python311\\site-packages\\IPython\\core\\interactiveshell.py:3534: UserWarning: To exit: use 'exit', 'quit', or Ctrl-D.\n",
      "  warn(\"To exit: use 'exit', 'quit', or Ctrl-D.\", stacklevel=1)\n"
     ]
    }
   ],
   "source": [
    "import argparse\n",
    "from src.stream_analyzer import Stream_Analyzer\n",
    "import time\n",
    "\n",
    "def parse_args():\n",
    "    parser = argparse.ArgumentParser()\n",
    "    parser.add_argument('--device', type=int, default=None, dest='device',\n",
    "                        help='pyaudio (portaudio) device index')\n",
    "    parser.add_argument('--height', type=int, default=450, dest='height',\n",
    "                        help='height, in pixels, of the visualizer window')\n",
    "    parser.add_argument('--n_frequency_bins', type=int, default=400, dest='frequency_bins',\n",
    "                        help='The FFT features are grouped in bins')\n",
    "    parser.add_argument('--verbose', action='store_true')\n",
    "    parser.add_argument('--window_ratio', default='24/9', dest='window_ratio',\n",
    "                        help='float ratio of the visualizer window. e.g. 24/9')\n",
    "    parser.add_argument('--sleep_between_frames', dest='sleep_between_frames', action='store_true',\n",
    "                        help='when true process sleeps between frames to reduce CPU usage (recommended for low update rates)')\n",
    "    return parser.parse_args()\n",
    "\n",
    "def convert_window_ratio(window_ratio):\n",
    "    if '/' in window_ratio:\n",
    "        dividend, divisor = window_ratio.split('/')\n",
    "        try:\n",
    "            float_ratio = float(dividend) / float(divisor)\n",
    "        except:\n",
    "            raise ValueError('window_ratio should be in the format: float/float')\n",
    "        return float_ratio\n",
    "    raise ValueError('window_ratio should be in the format: float/float')\n",
    "\n",
    "def run_FFT_analyzer():\n",
    "    args = parse_args()\n",
    "    window_ratio = convert_window_ratio(args.window_ratio)\n",
    "\n",
    "    ear = Stream_Analyzer(\n",
    "                    device = args.device,        # Pyaudio (portaudio) device index, defaults to first mic input\n",
    "                    rate   = None,               # Audio samplerate, None uses the default source settings\n",
    "                    FFT_window_size_ms  = 60,    # Window size used for the FFT transform\n",
    "                    updates_per_second  = 1000,  # How often to read the audio stream for new data\n",
    "                    smoothing_length_ms = 50,    # Apply some temporal smoothing to reduce noisy features\n",
    "                    n_frequency_bins = args.frequency_bins, # The FFT features are grouped in bins\n",
    "                    visualize = 1,               # Visualize the FFT features with PyGame\n",
    "                    verbose   = args.verbose,    # Print running statistics (latency, fps, ...)\n",
    "                    height    = args.height,     # Height, in pixels, of the visualizer window,\n",
    "                    window_ratio = window_ratio  # Float ratio of the visualizer window. e.g. 24/9\n",
    "                    )\n",
    "\n",
    "    fps = 60  #How often to update the FFT features + display\n",
    "    last_update = time.time()\n",
    "    while True:\n",
    "        if (time.time() - last_update) > (1./fps):\n",
    "            last_update = time.time()\n",
    "            raw_fftx, raw_fft, binned_fftx, binned_fft = ear.get_audio_features()\n",
    "        elif args.sleep_between_frames:\n",
    "            time.sleep(((1./fps)-(time.time()-last_update)) * 0.99)\n",
    "\n",
    "if __name__ == '__main__':\n",
    "    run_FFT_analyzer()"
   ]
  }
 ],
 "metadata": {
  "kernelspec": {
   "display_name": "Python 3",
   "language": "python",
   "name": "python3"
  },
  "language_info": {
   "codemirror_mode": {
    "name": "ipython",
    "version": 3
   },
   "file_extension": ".py",
   "mimetype": "text/x-python",
   "name": "python",
   "nbconvert_exporter": "python",
   "pygments_lexer": "ipython3",
   "version": "3.11.8"
  }
 },
 "nbformat": 4,
 "nbformat_minor": 2
}
