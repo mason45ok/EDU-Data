{
 "cells": [
  {
   "cell_type": "code",
   "execution_count": null,
   "metadata": {},
   "outputs": [],
   "source": [
    "#! pip install SpeechRecognition"
   ]
  },
  {
   "cell_type": "code",
   "execution_count": null,
   "metadata": {},
   "outputs": [],
   "source": [
    "#! pip install PyAudio"
   ]
  },
  {
   "cell_type": "code",
   "execution_count": 3,
   "metadata": {},
   "outputs": [
    {
     "name": "stdout",
     "output_type": "stream",
     "text": [
      "請開始說話...\n",
      "您說的是：funky music\n"
     ]
    }
   ],
   "source": [
    "import speech_recognition as sr\n",
    "\n",
    "# 建立Recognizer物件\n",
    "r = sr.Recognizer()\n",
    "\n",
    "# 開啟麥克風並進行錄音\n",
    "with sr.Microphone() as source:\n",
    "    print(\"請開始說話...\")\n",
    "    audio = r.listen(source)\n",
    "\n",
    "# 使用Google語音辨識引擎將錄音轉換為文字\n",
    "try:\n",
    "    text = r.recognize_google(audio, language='en')\n",
    "    print(\"您說的是：\" + text)\n",
    "except sr.UnknownValueError:\n",
    "    print(\"無法辨識您的語音\")\n",
    "except sr.RequestError as e:\n",
    "    print(\"無法連線至Google語音辨識服務：{0}\".format(e))"
   ]
  }
 ],
 "metadata": {
  "kernelspec": {
   "display_name": "Python 3",
   "language": "python",
   "name": "python3"
  },
  "language_info": {
   "codemirror_mode": {
    "name": "ipython",
    "version": 3
   },
   "file_extension": ".py",
   "mimetype": "text/x-python",
   "name": "python",
   "nbconvert_exporter": "python",
   "pygments_lexer": "ipython3",
   "version": "3.11.8"
  }
 },
 "nbformat": 4,
 "nbformat_minor": 2
}
