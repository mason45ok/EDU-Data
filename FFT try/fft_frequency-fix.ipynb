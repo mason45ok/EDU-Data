{
  "cells": [
    {
      "cell_type": "code",
      "execution_count": 1,
      "metadata": {
        "colab": {
          "base_uri": "https://localhost:8080/"
        },
        "id": "jQI4U7A1h34o",
        "outputId": "c1c0805f-3d85-4822-9d48-0a1b568a137c"
      },
      "outputs": [
        {
          "name": "stdout",
          "output_type": "stream",
          "text": [
            "Requirement already satisfied: kaleido in c:\\users\\mason\\appdata\\local\\packages\\pythonsoftwarefoundation.python.3.11_qbz5n2kfra8p0\\localcache\\local-packages\\python311\\site-packages (0.2.1)\n"
          ]
        }
      ],
      "source": [
        "# try:\n",
        "#     from google.colab import drive\n",
        "#     drive.mount('/content/drive', force_remount=True)\n",
        "#     COLAB = True\n",
        "#     print(\"Note: using Google CoLab\")\n",
        "# except:\n",
        "#     print(\"Note: not using Google CoLab\")\n",
        "#     COLAB = False\n",
        "\n",
        "PATH = '/content/drive/MyDrive'\n",
        "\n",
        "! pip install -U kaleido\n",
        "\n",
        "# Configuration\n",
        "FPS = 30\n",
        "FFT_WINDOW_SECONDS = 0.25 # how many seconds of audio make up an FFT window\n",
        "\n",
        "# Note range to display\n",
        "FREQ_MIN = 10\n",
        "FREQ_MAX = 1000\n",
        "\n",
        "# Notes to display\n",
        "TOP_NOTES = 3\n",
        "\n",
        "# Names of the notes\n",
        "NOTE_NAMES = [\"C\", \"C#\", \"D\", \"D#\", \"E\", \"F\", \"F#\", \"G\", \"G#\", \"A\", \"A#\", \"B\"]\n",
        "\n",
        "# Output size. Generally use SCALE for higher res, unless you need a non-standard aspect ratio.\n",
        "RESOLUTION = (1920, 1080)\n",
        "SCALE = 2 # 0.5=QHD(960x540), 1=HD(1920x1080), 2=4K(3840x2160)"
      ]
    },
    {
      "cell_type": "code",
      "execution_count": 2,
      "metadata": {
        "id": "9eOd8Tm-jIW5"
      },
      "outputs": [
        {
          "ename": "FileNotFoundError",
          "evalue": "[Errno 2] No such file or directory: '/content/drive/MyDrive\\\\musicgen_out.wav'",
          "output_type": "error",
          "traceback": [
            "\u001b[1;31m---------------------------------------------------------------------------\u001b[0m",
            "\u001b[1;31mFileNotFoundError\u001b[0m                         Traceback (most recent call last)",
            "Cell \u001b[1;32mIn[2], line 13\u001b[0m\n\u001b[0;32m      7\u001b[0m AUDIO_FILE \u001b[38;5;241m=\u001b[39m os\u001b[38;5;241m.\u001b[39mpath\u001b[38;5;241m.\u001b[39mjoin(PATH,\u001b[38;5;124m'\u001b[39m\u001b[38;5;124mmusicgen_out.wav\u001b[39m\u001b[38;5;124m'\u001b[39m)\n\u001b[0;32m      9\u001b[0m \u001b[38;5;66;03m# Or download my sample audio\u001b[39;00m\n\u001b[0;32m     10\u001b[0m \u001b[38;5;66;03m# !wget https://github.com/jeffheaton/present/raw/master/youtube/video/sample_audio/piano_c_major_scale.wav\u001b[39;00m\n\u001b[0;32m     11\u001b[0m \u001b[38;5;66;03m# AUDIO_FILE = \"/content/piano_c_major_scale.wav\"\u001b[39;00m\n\u001b[1;32m---> 13\u001b[0m fs, data \u001b[38;5;241m=\u001b[39m \u001b[43mwavfile\u001b[49m\u001b[38;5;241;43m.\u001b[39;49m\u001b[43mread\u001b[49m\u001b[43m(\u001b[49m\u001b[43mAUDIO_FILE\u001b[49m\u001b[43m)\u001b[49m \u001b[38;5;66;03m# load the data\u001b[39;00m\n\u001b[0;32m     14\u001b[0m audio \u001b[38;5;241m=\u001b[39m data\u001b[38;5;241m.\u001b[39mT[\u001b[38;5;241m0\u001b[39m] \u001b[38;5;66;03m# this is a two channel soundtrack, get the first track\u001b[39;00m\n\u001b[0;32m     15\u001b[0m FRAME_STEP \u001b[38;5;241m=\u001b[39m \u001b[38;5;28mint\u001b[39m(fs \u001b[38;5;241m/\u001b[39m FPS) \u001b[38;5;66;03m# audio samples per video frame\u001b[39;00m\n",
            "File \u001b[1;32m~\\AppData\\Local\\Packages\\PythonSoftwareFoundation.Python.3.11_qbz5n2kfra8p0\\LocalCache\\local-packages\\Python311\\site-packages\\scipy\\io\\wavfile.py:647\u001b[0m, in \u001b[0;36mread\u001b[1;34m(filename, mmap)\u001b[0m\n\u001b[0;32m    645\u001b[0m     mmap \u001b[38;5;241m=\u001b[39m \u001b[38;5;28;01mFalse\u001b[39;00m\n\u001b[0;32m    646\u001b[0m \u001b[38;5;28;01melse\u001b[39;00m:\n\u001b[1;32m--> 647\u001b[0m     fid \u001b[38;5;241m=\u001b[39m \u001b[38;5;28;43mopen\u001b[39;49m\u001b[43m(\u001b[49m\u001b[43mfilename\u001b[49m\u001b[43m,\u001b[49m\u001b[43m \u001b[49m\u001b[38;5;124;43m'\u001b[39;49m\u001b[38;5;124;43mrb\u001b[39;49m\u001b[38;5;124;43m'\u001b[39;49m\u001b[43m)\u001b[49m\n\u001b[0;32m    649\u001b[0m \u001b[38;5;28;01mtry\u001b[39;00m:\n\u001b[0;32m    650\u001b[0m     file_size, is_big_endian \u001b[38;5;241m=\u001b[39m _read_riff_chunk(fid)\n",
            "\u001b[1;31mFileNotFoundError\u001b[0m: [Errno 2] No such file or directory: '/content/drive/MyDrive\\\\musicgen_out.wav'"
          ]
        }
      ],
      "source": [
        "import matplotlib.pyplot as plt\n",
        "from scipy.fftpack import fft\n",
        "from scipy.io import wavfile # get the api\n",
        "import os\n",
        "\n",
        "# Get a WAV file from GDrive, such as:\n",
        "AUDIO_FILE = os.path.join(PATH,'musicgen_out.wav')\n",
        "\n",
        "# Or download my sample audio\n",
        "# !wget https://github.com/jeffheaton/present/raw/master/youtube/video/sample_audio/piano_c_major_scale.wav\n",
        "# AUDIO_FILE = \"/content/piano_c_major_scale.wav\"\n",
        "\n",
        "fs, data = wavfile.read(AUDIO_FILE) # load the data\n",
        "audio = data.T[0] # this is a two channel soundtrack, get the first track\n",
        "FRAME_STEP = int(fs / FPS) # audio samples per video frame\n",
        "FFT_WINDOW_SIZE = int(fs * FFT_WINDOW_SECONDS)\n",
        "AUDIO_LENGTH = len(data) / fs"
      ]
    },
    {
      "cell_type": "markdown",
      "metadata": {
        "id": "gqxOflIuM_eT"
      },
      "source": [
        "Several utility functions."
      ]
    },
    {
      "cell_type": "code",
      "execution_count": 4,
      "metadata": {
        "id": "yg2kx9olG3ib"
      },
      "outputs": [],
      "source": [
        "import plotly.graph_objects as go\n",
        "\n",
        "def plot_fft(p, xf, fs, notes, dimensions=(960,540)):\n",
        "  layout = go.Layout(\n",
        "      title=\"frequency spectrum\",\n",
        "      autosize=False,\n",
        "      width=dimensions[0],\n",
        "      height=dimensions[1],\n",
        "      xaxis_title=\"Frequency (note)\",\n",
        "      yaxis_title=\"Magnitude\",\n",
        "      font={'size' : 24}\n",
        "  )\n",
        "\n",
        "  fig = go.Figure(layout=layout,\n",
        "                  layout_xaxis_range=[FREQ_MIN,FREQ_MAX],\n",
        "                  layout_yaxis_range=[0,1]\n",
        "                  )\n",
        "\n",
        "  fig.add_trace(go.Scatter(\n",
        "      x = xf,\n",
        "      y = p))\n",
        "\n",
        "  for note in notes:\n",
        "    fig.add_annotation(x=note[0]+10, y=note[2],\n",
        "            text=note[1],\n",
        "            font = {'size' : 48},\n",
        "            showarrow=False)\n",
        "  return fig\n",
        "\n",
        "def extract_sample(audio, frame_number):\n",
        "    end = frame_number * FRAME_OFFSET\n",
        "    begin = int(end - FFT_WINDOW_SIZE)\n",
        "\n",
        "    if end <= 0:\n",
        "        # We have no audio yet, return all zeros (very beginning)\n",
        "        return np.zeros(FFT_WINDOW_SIZE, dtype=float)\n",
        "    elif begin < 0:\n",
        "        # We have some audio, pad with zeros\n",
        "        padded_audio = np.concatenate([np.zeros(abs(begin), dtype=float), data[:end]])\n",
        "        return padded_audio[-FFT_WINDOW_SIZE:]\n",
        "    else:\n",
        "        # Usually this happens, return the next sample\n",
        "        return audio[begin:end]\n",
        "\n",
        "\n",
        "def find_top_notes(fft,num):\n",
        "  if np.max(fft.real)<0.001:\n",
        "    return []\n",
        "\n",
        "  lst = [x for x in enumerate(fft.real)]\n",
        "  lst = sorted(lst, key=lambda x: x[1],reverse=True)\n",
        "\n",
        "  idx = 0\n",
        "  found = []\n",
        "  found_note = set()\n",
        "  while( (idx<len(lst)) and (len(found)<num) ):\n",
        "    f = xf[lst[idx][0]]\n",
        "    y = lst[idx][1]\n",
        "    n = freq_to_number(f)\n",
        "    n0 = int(round(n))\n",
        "    name = note_name(n0)\n",
        "\n",
        "    if name not in found_note:\n",
        "      found_note.add(name)\n",
        "      s = [f,note_name(n0),y]\n",
        "      found.append(s)\n",
        "    idx += 1\n",
        "\n",
        "  return found"
      ]
    },
    {
      "cell_type": "markdown",
      "metadata": {
        "id": "t98k4AMRHy-o"
      },
      "source": [
        "Run the FFT on individual samples of the audio and generate video frames of the frequency chart."
      ]
    },
    {
      "cell_type": "code",
      "execution_count": 5,
      "metadata": {
        "colab": {
          "base_uri": "https://localhost:8080/"
        },
        "id": "rFyeZ44Cr5TI",
        "outputId": "73fd185b-c7b1-42cd-c62e-c3b64f617308"
      },
      "outputs": [
        {
          "name": "stdout",
          "output_type": "stream",
          "text": [
            "Max amplitude: 146.85384916340084\n"
          ]
        }
      ],
      "source": [
        "import numpy as np\n",
        "import tqdm\n",
        "\n",
        "# ! rm /content/*.png\n",
        "\n",
        "# See https://newt.phys.unsw.edu.au/jw/notes.html\n",
        "def freq_to_number(f): return 69 + 12*np.log2(f/440.0)\n",
        "def number_to_freq(n): return 440 * 2.0**((n-69)/12.0)\n",
        "def note_name(n): return NOTE_NAMES[n % 12] + str(int(n/12 - 1))\n",
        "\n",
        "# Hanning window function\n",
        "window = 0.5 * (1 - np.cos(np.linspace(0, 2*np.pi, FFT_WINDOW_SIZE, False)))\n",
        "\n",
        "xf = np.fft.rfftfreq(FFT_WINDOW_SIZE, 1/fs)\n",
        "FRAME_COUNT = int(AUDIO_LENGTH*FPS)\n",
        "FRAME_OFFSET = int(len(data)/FRAME_COUNT)\n",
        "\n",
        "# Pass 1, find out the maximum amplitude so we can scale.\n",
        "mx = 0\n",
        "for frame_number in range(FRAME_COUNT):\n",
        "  sample = extract_sample(data, frame_number)\n",
        "\n",
        "  fft = np.fft.rfft(sample * window)\n",
        "  fft = np.abs(fft).real\n",
        "  mx = max(np.max(fft),mx)\n",
        "\n",
        "print(f\"Max amplitude: {mx}\")"
      ]
    },
    {
      "cell_type": "code",
      "execution_count": 6,
      "metadata": {
        "id": "bWlKT_38ssA-"
      },
      "outputs": [],
      "source": [
        "def freq_to_number(f):\n",
        "    if f == 0:\n",
        "        return float('-inf')  # 处理频率为0的情况，避免除以零错误\n",
        "    else:\n",
        "        return 69 + 12*np.log2(f/440.0)\n",
        "\n",
        "def find_top_notes(fft, num):\n",
        "    if np.max(fft.real) < 0.001:\n",
        "        return []\n",
        "\n",
        "    lst = [x for x in enumerate(fft.real)]\n",
        "    lst = sorted(lst, key=lambda x: x[1], reverse=True)\n",
        "\n",
        "    idx = 0\n",
        "    found = []\n",
        "    found_note = set()\n",
        "    while idx < len(lst) and len(found) < num:\n",
        "        f = xf[lst[idx][0]]\n",
        "        y = lst[idx][1]\n",
        "        n = freq_to_number(f)\n",
        "        if np.isfinite(n):  # 检查n是否为有限值，避免溢出错误\n",
        "            n0 = int(round(n))\n",
        "            name = note_name(n0)\n",
        "            if name not in found_note:\n",
        "                found_note.add(name)\n",
        "                s = [f, name, y]\n",
        "                found.append(s)\n",
        "        idx += 1\n",
        "\n",
        "    return found"
      ]
    },
    {
      "cell_type": "code",
      "execution_count": 7,
      "metadata": {
        "colab": {
          "base_uri": "https://localhost:8080/"
        },
        "id": "i7OinuERiRak",
        "outputId": "fc7be915-90f2-4962-960f-6b736b3d3a38"
      },
      "outputs": [
        {
          "name": "stderr",
          "output_type": "stream",
          "text": [
            "  0%|          | 0/307 [00:00<?, ?it/s]"
          ]
        }
      ],
      "source": [
        "# Pass 2, produce the animation\n",
        "for frame_number in tqdm.tqdm(range(FRAME_COUNT)):\n",
        "    sample = extract_sample(data, frame_number)\n",
        "\n",
        "    fft = np.fft.rfft(sample * window)\n",
        "\n",
        "    # 检查fft是否全为零，避免在计算mx时出现除以零错误\n",
        "    if np.all(fft == 0):\n",
        "        continue\n",
        "\n",
        "    fft = np.abs(fft) / mx\n",
        "\n",
        "    # 检查fft是否包含无穷大或无穷小的情况，避免在调用find_top_notes函数时出现异常\n",
        "    if np.any(np.isinf(fft)) or np.any(np.isnan(fft)):\n",
        "        continue\n",
        "\n",
        "    s = find_top_notes(fft, TOP_NOTES)\n",
        "\n",
        "    fig = plot_fft(fft.real, xf, fs, s, RESOLUTION)\n",
        "    # fig.write_image(f\"/content/frame{frame_number}.png\", scale=2)\n",
        "    fig.write_image(f\"{frame_number}.png\", scale=2)\n"
      ]
    },
    {
      "cell_type": "markdown",
      "metadata": {
        "id": "1vo01yEzHeSu"
      },
      "source": [
        "Use [ffmpeg](https://ffmpeg.org/) to combine the input audio WAV and the individual frame images into a MP4 video."
      ]
    },
    {
      "cell_type": "code",
      "execution_count": 8,
      "metadata": {
        "colab": {
          "base_uri": "https://localhost:8080/"
        },
        "id": "LzPw9WT-Lfmy",
        "outputId": "b2101c74-3b3e-4267-fa91-d170bd2acfb8"
      },
      "outputs": [
        {
          "name": "stdout",
          "output_type": "stream",
          "text": [
            "ffmpeg version 4.4.2-0ubuntu0.22.04.1 Copyright (c) 2000-2021 the FFmpeg developers\n",
            "  built with gcc 11 (Ubuntu 11.2.0-19ubuntu1)\n",
            "  configuration: --prefix=/usr --extra-version=0ubuntu0.22.04.1 --toolchain=hardened --libdir=/usr/lib/x86_64-linux-gnu --incdir=/usr/include/x86_64-linux-gnu --arch=amd64 --enable-gpl --disable-stripping --enable-gnutls --enable-ladspa --enable-libaom --enable-libass --enable-libbluray --enable-libbs2b --enable-libcaca --enable-libcdio --enable-libcodec2 --enable-libdav1d --enable-libflite --enable-libfontconfig --enable-libfreetype --enable-libfribidi --enable-libgme --enable-libgsm --enable-libjack --enable-libmp3lame --enable-libmysofa --enable-libopenjpeg --enable-libopenmpt --enable-libopus --enable-libpulse --enable-librabbitmq --enable-librubberband --enable-libshine --enable-libsnappy --enable-libsoxr --enable-libspeex --enable-libsrt --enable-libssh --enable-libtheora --enable-libtwolame --enable-libvidstab --enable-libvorbis --enable-libvpx --enable-libwebp --enable-libx265 --enable-libxml2 --enable-libxvid --enable-libzimg --enable-libzmq --enable-libzvbi --enable-lv2 --enable-omx --enable-openal --enable-opencl --enable-opengl --enable-sdl2 --enable-pocketsphinx --enable-librsvg --enable-libmfx --enable-libdc1394 --enable-libdrm --enable-libiec61883 --enable-chromaprint --enable-frei0r --enable-libx264 --enable-shared\n",
            "  libavutil      56. 70.100 / 56. 70.100\n",
            "  libavcodec     58.134.100 / 58.134.100\n",
            "  libavformat    58. 76.100 / 58. 76.100\n",
            "  libavdevice    58. 13.100 / 58. 13.100\n",
            "  libavfilter     7.110.100 /  7.110.100\n",
            "  libswscale      5.  9.100 /  5.  9.100\n",
            "  libswresample   3.  9.100 /  3.  9.100\n",
            "  libpostproc    55.  9.100 / 55.  9.100\n",
            "Input #0, image2, from 'frame%d.png':\n",
            "  Duration: 00:00:10.20, start: 0.000000, bitrate: N/A\n",
            "  Stream #0:0: Video: png, rgba(pc), 3840x2160, 30 fps, 30 tbr, 30 tbn, 30 tbc\n",
            "\u001b[0;33mGuessed Channel Layout for Input Stream #1.0 : mono\n",
            "\u001b[0mInput #1, wav, from '/content/drive/MyDrive/musicgen_out.wav':\n",
            "  Duration: 00:00:10.24, bitrate: 512 kb/s\n",
            "  Stream #1:0: Audio: pcm_f32le ([3][0][0][0] / 0x0003), 16000 Hz, mono, flt, 512 kb/s\n",
            "Stream mapping:\n",
            "  Stream #0:0 -> #0:0 (png (native) -> h264 (libx264))\n",
            "  Stream #1:0 -> #0:1 (pcm_f32le (native) -> aac (native))\n",
            "Press [q] to stop, [?] for help\n",
            "\u001b[0;35m[image2 @ 0x5bc7be4361c0] \u001b[0m\u001b[0;33mThread message queue blocking; consider raising the thread_queue_size option (current value: 8)\n",
            "\u001b[0m\u001b[1;36m[libx264 @ 0x5bc7be487240] \u001b[0musing cpu capabilities: MMX2 SSE2Fast SSSE3 SSE4.2 AVX FMA3 BMI2 AVX2\n",
            "\u001b[1;36m[libx264 @ 0x5bc7be487240] \u001b[0mprofile High, level 5.1, 4:2:0, 8-bit\n",
            "\u001b[1;36m[libx264 @ 0x5bc7be487240] \u001b[0m264 - core 163 r3060 5db6aa6 - H.264/MPEG-4 AVC codec - Copyleft 2003-2021 - http://www.videolan.org/x264.html - options: cabac=1 ref=3 deblock=1:0:0 analyse=0x3:0x113 me=hex subme=7 psy=1 psy_rd=1.00:0.00 mixed_ref=1 me_range=16 chroma_me=1 trellis=1 8x8dct=1 cqm=0 deadzone=21,11 fast_pskip=1 chroma_qp_offset=-2 threads=3 lookahead_threads=1 sliced_threads=0 nr=0 decimate=1 interlaced=0 bluray_compat=0 constrained_intra=0 bframes=3 b_pyramid=2 b_adapt=1 b_bias=0 direct=1 weightb=1 open_gop=0 weightp=2 keyint=250 keyint_min=25 scenecut=40 intra_refresh=0 rc_lookahead=40 rc=crf mbtree=1 crf=23.0 qcomp=0.60 qpmin=0 qpmax=69 qpstep=4 ip_ratio=1.40 aq=1:1.00\n",
            "Output #0, mp4, to 'movie.mp4':\n",
            "  Metadata:\n",
            "    encoder         : Lavf58.76.100\n",
            "  Stream #0:0: Video: h264 (avc1 / 0x31637661), yuv420p(tv, progressive), 3840x2160, q=2-31, 30 fps, 15360 tbn\n",
            "    Metadata:\n",
            "      encoder         : Lavc58.134.100 libx264\n",
            "    Side data:\n",
            "      cpb: bitrate max/min/avg: 0/0/0 buffer size: 0 vbv_delay: N/A\n",
            "  Stream #0:1: Audio: aac (LC) (mp4a / 0x6134706D), 16000 Hz, mono, fltp, 69 kb/s\n",
            "    Metadata:\n",
            "      encoder         : Lavc58.134.100 aac\n",
            "frame=  306 fps=4.3 q=-1.0 Lsize=    2284kB time=00:00:10.17 bitrate=1838.9kbits/s speed=0.144x    \n",
            "video:2190kB audio:87kB subtitle:0kB other streams:0kB global headers:0kB muxing overhead: 0.308298%\n",
            "\u001b[1;36m[libx264 @ 0x5bc7be487240] \u001b[0mframe I:2     Avg QP: 9.86  size: 40632\n",
            "\u001b[1;36m[libx264 @ 0x5bc7be487240] \u001b[0mframe P:93    Avg QP:16.54  size:  9460\n",
            "\u001b[1;36m[libx264 @ 0x5bc7be487240] \u001b[0mframe B:211   Avg QP:18.24  size:  6072\n",
            "\u001b[1;36m[libx264 @ 0x5bc7be487240] \u001b[0mconsecutive B-frames:  3.9%  6.5% 17.6% 71.9%\n",
            "\u001b[1;36m[libx264 @ 0x5bc7be487240] \u001b[0mmb I  I16..4: 90.4%  7.0%  2.6%\n",
            "\u001b[1;36m[libx264 @ 0x5bc7be487240] \u001b[0mmb P  I16..4:  0.4%  0.8%  0.6%  P16..4:  0.7%  0.4%  0.2%  0.0%  0.0%    skip:96.9%\n",
            "\u001b[1;36m[libx264 @ 0x5bc7be487240] \u001b[0mmb B  I16..4:  0.1%  0.1%  0.2%  B16..8:  1.7%  0.6%  0.2%  direct: 0.1%  skip:97.0%  L0:53.6% L1:43.2% BI: 3.2%\n",
            "\u001b[1;36m[libx264 @ 0x5bc7be487240] \u001b[0m8x8 transform intra:24.4% inter:39.8%\n",
            "\u001b[1;36m[libx264 @ 0x5bc7be487240] \u001b[0mcoded y,uvDC,uvAC intra: 18.5% 30.7% 26.8% inter: 0.3% 0.3% 0.2%\n",
            "\u001b[1;36m[libx264 @ 0x5bc7be487240] \u001b[0mi16 v,h,dc,p: 81% 18%  1%  0%\n",
            "\u001b[1;36m[libx264 @ 0x5bc7be487240] \u001b[0mi8 v,h,dc,ddl,ddr,vr,hd,vl,hu: 21%  7% 67%  1%  1%  1%  1%  1%  1%\n",
            "\u001b[1;36m[libx264 @ 0x5bc7be487240] \u001b[0mi4 v,h,dc,ddl,ddr,vr,hd,vl,hu: 28% 20% 29%  4%  3%  5%  3%  5%  2%\n",
            "\u001b[1;36m[libx264 @ 0x5bc7be487240] \u001b[0mi8c dc,h,v,p: 68% 18% 13%  1%\n",
            "\u001b[1;36m[libx264 @ 0x5bc7be487240] \u001b[0mWeighted P-Frames: Y:0.0% UV:0.0%\n",
            "\u001b[1;36m[libx264 @ 0x5bc7be487240] \u001b[0mref P L0: 55.3%  3.6% 24.6% 16.4%\n",
            "\u001b[1;36m[libx264 @ 0x5bc7be487240] \u001b[0mref B L0: 74.5% 19.9%  5.5%\n",
            "\u001b[1;36m[libx264 @ 0x5bc7be487240] \u001b[0mref B L1: 94.4%  5.6%\n",
            "\u001b[1;36m[libx264 @ 0x5bc7be487240] \u001b[0mkb/s:1758.62\n",
            "\u001b[1;36m[aac @ 0x5bc7be488c80] \u001b[0mQavg: 133.430\n"
          ]
        }
      ],
      "source": [
        "!ffmpeg -y -r {FPS} -f image2 -s 1920x1080 -i frame%d.png -i {AUDIO_FILE} -c:v libx264 -pix_fmt yuv420p movie.mp4"
      ]
    },
    {
      "cell_type": "markdown",
      "metadata": {
        "id": "YBbcVFuhHZgP"
      },
      "source": [
        "Download the generated movie."
      ]
    },
    {
      "cell_type": "code",
      "execution_count": 9,
      "metadata": {
        "colab": {
          "base_uri": "https://localhost:8080/",
          "height": 17
        },
        "id": "6ohuRzpfLkYg",
        "outputId": "670480d5-2c9a-43a4-dd13-c4df7ff485d6"
      },
      "outputs": [
        {
          "data": {
            "application/javascript": "\n    async function download(id, filename, size) {\n      if (!google.colab.kernel.accessAllowed) {\n        return;\n      }\n      const div = document.createElement('div');\n      const label = document.createElement('label');\n      label.textContent = `Downloading \"${filename}\": `;\n      div.appendChild(label);\n      const progress = document.createElement('progress');\n      progress.max = size;\n      div.appendChild(progress);\n      document.body.appendChild(div);\n\n      const buffers = [];\n      let downloaded = 0;\n\n      const channel = await google.colab.kernel.comms.open(id);\n      // Send a message to notify the kernel that we're ready.\n      channel.send({})\n\n      for await (const message of channel.messages) {\n        // Send a message to notify the kernel that we're ready.\n        channel.send({})\n        if (message.buffers) {\n          for (const buffer of message.buffers) {\n            buffers.push(buffer);\n            downloaded += buffer.byteLength;\n            progress.value = downloaded;\n          }\n        }\n      }\n      const blob = new Blob(buffers, {type: 'application/binary'});\n      const a = document.createElement('a');\n      a.href = window.URL.createObjectURL(blob);\n      a.download = filename;\n      div.appendChild(a);\n      a.click();\n      div.remove();\n    }\n  ",
            "text/plain": [
              "<IPython.core.display.Javascript object>"
            ]
          },
          "metadata": {},
          "output_type": "display_data"
        },
        {
          "data": {
            "application/javascript": "download(\"download_f063e5f8-2c1c-493f-9df0-27b8296e3100\", \"movie.mp4\", 2339023)",
            "text/plain": [
              "<IPython.core.display.Javascript object>"
            ]
          },
          "metadata": {},
          "output_type": "display_data"
        }
      ],
      "source": [
        "from google.colab import files\n",
        "files.download('movie.mp4')"
      ]
    }
  ],
  "metadata": {
    "colab": {
      "provenance": []
    },
    "kernelspec": {
      "display_name": "Python 3 (ipykernel)",
      "language": "python",
      "name": "python3"
    },
    "language_info": {
      "codemirror_mode": {
        "name": "ipython",
        "version": 3
      },
      "file_extension": ".py",
      "mimetype": "text/x-python",
      "name": "python",
      "nbconvert_exporter": "python",
      "pygments_lexer": "ipython3",
      "version": "3.11.9"
    }
  },
  "nbformat": 4,
  "nbformat_minor": 0
}
