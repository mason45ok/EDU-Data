{
 "cells": [
  {
   "cell_type": "code",
   "execution_count": 4,
   "metadata": {},
   "outputs": [],
   "source": [
    "import librosa\n",
    "import soundfile as sf\n",
    "\n",
    "\n",
    "input_file = \"C:/Users/mason/Desktop/作業/科技系/教育大數據專題製作/EDU-Data/output/audio.wav\"\n",
    "output_file = \"C:/Users/mason/Desktop/作業/科技系/教育大數據專題製作/EDU-Data/output/output.wav\"\n",
    "\n",
    "# 读取.wav文件\n",
    "wav_data, sr = librosa.load(input_file)\n",
    "# 调整音高\n",
    "shifted_wav_data = librosa.effects.pitch_shift(wav_data, sr=sr, n_steps=8,bins_per_octave=24)\n",
    "\n",
    "# 将处理后的音频数据写入到output.wav文件中\n",
    "sf.write(output_file, shifted_wav_data, sr)\n"
   ]
  }
 ],
 "metadata": {
  "kernelspec": {
   "display_name": "Python 3",
   "language": "python",
   "name": "python3"
  },
  "language_info": {
   "codemirror_mode": {
    "name": "ipython",
    "version": 3
   },
   "file_extension": ".py",
   "mimetype": "text/x-python",
   "name": "python",
   "nbconvert_exporter": "python",
   "pygments_lexer": "ipython3",
   "version": "3.11.9"
  }
 },
 "nbformat": 4,
 "nbformat_minor": 2
}
